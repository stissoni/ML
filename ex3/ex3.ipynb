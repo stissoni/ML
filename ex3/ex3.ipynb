{
 "cells": [
  {
   "cell_type": "code",
   "execution_count": 38,
   "metadata": {},
   "outputs": [],
   "source": [
    "from scipy.io import loadmat\n",
    "import numpy as np\n",
    "import scipy.optimize as opt\n",
    "import matplotlib.pyplot as plt"
   ]
  },
  {
   "cell_type": "markdown",
   "metadata": {},
   "source": [
    "# Regresion logistica: One vs. All\n",
    "\n",
    "Base de datos de 5000 numeros, de 20x20 pixeles: el trabajo nos presenta la necesidad de armar un modelo de regresion logistica para poder predecir los disintos numeros del 1 al 10 de la base de datos: para lograrlo se implementaria una funcion de costo, el gradiente de la misma y se usaran algoritmos de la libreria scypi para minimizar los parametros\n"
   ]
  },
  {
   "cell_type": "code",
   "execution_count": 39,
   "metadata": {},
   "outputs": [],
   "source": [
    "data = loadmat(\"ex3data1.mat\")\n",
    "X = data[\"X\"]\n",
    "y = data[\"y\"]"
   ]
  },
  {
   "cell_type": "code",
   "execution_count": 40,
   "metadata": {},
   "outputs": [
    {
     "data": {
      "text/plain": [
       "(5000, 400)"
      ]
     },
     "execution_count": 40,
     "metadata": {},
     "output_type": "execute_result"
    }
   ],
   "source": [
    "#5000 filas que representan numeros del 0-9, y 400 columnas que representan la intensidad luminica de cada pixel\n",
    "X.shape"
   ]
  },
  {
   "cell_type": "code",
   "execution_count": 41,
   "metadata": {},
   "outputs": [
    {
     "data": {
      "text/plain": [
       "(5000, 1)"
      ]
     },
     "execution_count": 41,
     "metadata": {},
     "output_type": "execute_result"
    }
   ],
   "source": [
    "y.shape"
   ]
  },
  {
   "cell_type": "code",
   "execution_count": 42,
   "metadata": {},
   "outputs": [
    {
     "data": {
      "image/png": "[encoded data removed]",
      "text/plain": [
       "<Figure size 504x504 with 25 Axes>"
      ]
     },
     "metadata": {
      "needs_background": "light"
     },
     "output_type": "display_data"
    }
   ],
   "source": [
    "#Graficamos algunos numeros aleatorios del dataset\n",
    "_, axarr = plt.subplots(5,5,figsize=(7,7))\n",
    "plt.gray()\n",
    "for i in range(5):\n",
    "    for j in range(5):\n",
    "        axarr[i,j].imshow(X[np.random.randint(X.shape[0])].reshape((20,20), order = \"F\"))\n",
    "        axarr[i,j].axis('off') "
   ]
  },
  {
   "cell_type": "code",
   "execution_count": 43,
   "metadata": {},
   "outputs": [],
   "source": [
    "def sigmoid(z):\n",
    "    \"\"\"\n",
    "    G = sigmoid function, devuelve probabilidad dado h arbitrario.\n",
    "    \"\"\"\n",
    "    h = 1/(1+np.exp(-z))\n",
    "    return h"
   ]
  },
  {
   "cell_type": "code",
   "execution_count": 44,
   "metadata": {},
   "outputs": [],
   "source": [
    "def costFunctionReg(theta, X, y, lmbda):\n",
    "    \"\"\"\n",
    "    J = cost function (loss function), devuelve el error.\n",
    "    \"\"\"\n",
    "    m = len(y)\n",
    "    temp1 = np.multiply(y, np.log(sigmoid(np.dot(X, theta))))\n",
    "    temp2 = np.multiply(1-y, np.log(1-sigmoid(np.dot(X, theta))))\n",
    "    return np.sum(temp1 + temp2) / (-m) + np.sum(theta[1:]**2) * lmbda / (2*m)"
   ]
  },
  {
   "cell_type": "code",
   "execution_count": 45,
   "metadata": {},
   "outputs": [],
   "source": [
    "def gradRegularization(theta, X, y, alpha):\n",
    "    \"\"\"\n",
    "    Gradiente de la funcion de costo. Se utiliza en el algoritmo para encontrar los parametros que\n",
    "    minimizan J.\n",
    "    \"\"\"\n",
    "    m = len(y)\n",
    "    temp = sigmoid(np.dot(X, theta)) - y\n",
    "    temp = np.dot(temp.T, X).T / m + theta * alpha / m\n",
    "    temp[0] = temp[0] - theta[0] * alpha / m\n",
    "    return temp"
   ]
  },
  {
   "cell_type": "code",
   "execution_count": 46,
   "metadata": {},
   "outputs": [],
   "source": [
    "#Agregar columnas de 1's y asignamos (m,n) las dimensiones de la matriz X.\n",
    "X = np.insert(X,0,1, axis = 1)\n",
    "(m, n) = X.shape"
   ]
  },
  {
   "cell_type": "code",
   "execution_count": 47,
   "metadata": {},
   "outputs": [
    {
     "name": "stdout",
     "output_type": "stream",
     "text": [
      "Optimization terminated successfully.\n",
      "         Current function value: 0.008587\n",
      "         Iterations: 95\n",
      "         Function evaluations: 363\n",
      "         Gradient evaluations: 363\n",
      "Optimization terminated successfully.\n",
      "         Current function value: 0.013127\n",
      "         Iterations: 100\n",
      "         Function evaluations: 386\n",
      "         Gradient evaluations: 386\n",
      "Optimization terminated successfully.\n",
      "         Current function value: 0.050812\n",
      "         Iterations: 227\n",
      "         Function evaluations: 692\n",
      "         Gradient evaluations: 692\n",
      "Optimization terminated successfully.\n",
      "         Current function value: 0.057612\n",
      "         Iterations: 212\n",
      "         Function evaluations: 640\n",
      "         Gradient evaluations: 640\n",
      "Optimization terminated successfully.\n",
      "         Current function value: 0.033079\n",
      "         Iterations: 157\n",
      "         Function evaluations: 514\n",
      "         Gradient evaluations: 514\n",
      "Optimization terminated successfully.\n",
      "         Current function value: 0.054470\n",
      "         Iterations: 236\n",
      "         Function evaluations: 701\n",
      "         Gradient evaluations: 701\n",
      "Optimization terminated successfully.\n",
      "         Current function value: 0.018266\n",
      "         Iterations: 150\n",
      "         Function evaluations: 545\n",
      "         Gradient evaluations: 545\n",
      "Optimization terminated successfully.\n",
      "         Current function value: 0.030656\n",
      "         Iterations: 165\n",
      "         Function evaluations: 567\n",
      "         Gradient evaluations: 567\n",
      "Optimization terminated successfully.\n",
      "         Current function value: 0.078451\n",
      "         Iterations: 307\n",
      "         Function evaluations: 854\n",
      "         Gradient evaluations: 854\n",
      "Optimization terminated successfully.\n",
      "         Current function value: 0.071193\n",
      "         Iterations: 318\n",
      "         Function evaluations: 915\n",
      "         Gradient evaluations: 915\n"
     ]
    }
   ],
   "source": [
    "#Algoritmo que minimiza J.\n",
    "learning_rate = 0.1\n",
    "k = 10\n",
    "theta = np.zeros((k,n)) \n",
    "for i in range(k):\n",
    "    digit_class = i if i else 10\n",
    "    theta[i] = opt.fmin_cg(f = costFunctionReg, x0 = theta[i],  fprime = gradRegularization, \n",
    "                           args = (X, (y == digit_class).flatten(), learning_rate), maxiter = 500)"
   ]
  },
  {
   "cell_type": "code",
   "execution_count": 48,
   "metadata": {},
   "outputs": [
    {
     "data": {
      "text/plain": [
       "96.46000000000001"
      ]
     },
     "execution_count": 48,
     "metadata": {},
     "output_type": "execute_result"
    }
   ],
   "source": [
    "#Precision del modelo. Comapara las predicciones con sus valores reales en y.\n",
    "pred = np.argmax(X @ theta.T, axis = 1)\n",
    "pred = [e if e else 10 for e in pred]\n",
    "np.mean(pred == y.flatten()) * 100"
   ]
  },
  {
   "cell_type": "code",
   "execution_count": 49,
   "metadata": {
    "scrolled": false
   },
   "outputs": [
    {
     "name": "stdout",
     "output_type": "stream",
     "text": [
      "Prediction: 2\n"
     ]
    },
    {
     "data": {
      "image/png": "[encoded data removed]",
      "text/plain": [
       "<Figure size 432x288 with 1 Axes>"
      ]
     },
     "metadata": {
      "needs_background": "light"
     },
     "output_type": "display_data"
    }
   ],
   "source": [
    "#Se elige aleatoriamente una fila de X, y se predice que numero es aplicando el modelo.\n",
    "def predictRandomDigit():\n",
    "    random_digit = X[np.random.randint(X.shape[0])]\n",
    "    plt.imshow(random_digit[1:].reshape((20, 20), order='F'))\n",
    "    predicted = np.argmax(sigmoid(np.dot(random_digit, theta.T)))\n",
    "    print(f\"Prediction: {predicted}\")\n",
    "\n",
    "predictRandomDigit()"
   ]
  }
 ],
 "metadata": {
  "kernelspec": {
   "display_name": "Python 3",
   "language": "python",
   "name": "python3"
  },
  "language_info": {
   "codemirror_mode": {
    "name": "ipython",
    "version": 3
   },
   "file_extension": ".py",
   "mimetype": "text/x-python",
   "name": "python",
   "nbconvert_exporter": "python",
   "pygments_lexer": "ipython3",
   "version": "3.7.6"
  }
 },
 "nbformat": 4,
 "nbformat_minor": 4
}
