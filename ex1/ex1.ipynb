{
 "cells": [
  {
   "cell_type": "code",
   "execution_count": 96,
   "metadata": {},
   "outputs": [],
   "source": [
    "import pandas as pd\n",
    "import numpy as np\n",
    "import matplotlib.pyplot as plt"
   ]
  },
  {
   "cell_type": "markdown",
   "metadata": {},
   "source": [
    "# Regresion Lineal simple\n",
    "\n",
    "En este trabajo disponemos de una base de datos de dos columnas: columna 1 es la poblacion, y columna 2 son ganancias de un negocio en una ciudad. Y cada fila son ciudades. Analizaremos los datos y veremos que hay una relacion lineal entre la cantidad de gente que vive en la ciudad y las ganancias del negocio"
   ]
  },
  {
   "cell_type": "code",
   "execution_count": 97,
   "metadata": {
    "scrolled": false
   },
   "outputs": [
    {
     "data": {
      "text/html": [
       "<div>\n",
       "<style scoped>\n",
       "    .dataframe tbody tr th:only-of-type {\n",
       "        vertical-align: middle;\n",
       "    }\n",
       "\n",
       "    .dataframe tbody tr th {\n",
       "        vertical-align: top;\n",
       "    }\n",
       "\n",
       "    .dataframe thead th {\n",
       "        text-align: right;\n",
       "    }\n",
       "</style>\n",
       "<table border=\"1\" class=\"dataframe\">\n",
       "  <thead>\n",
       "    <tr style=\"text-align: right;\">\n",
       "      <th></th>\n",
       "      <th>0</th>\n",
       "      <th>1</th>\n",
       "    </tr>\n",
       "  </thead>\n",
       "  <tbody>\n",
       "    <tr>\n",
       "      <th>0</th>\n",
       "      <td>6.1101</td>\n",
       "      <td>17.5920</td>\n",
       "    </tr>\n",
       "    <tr>\n",
       "      <th>1</th>\n",
       "      <td>5.5277</td>\n",
       "      <td>9.1302</td>\n",
       "    </tr>\n",
       "    <tr>\n",
       "      <th>2</th>\n",
       "      <td>8.5186</td>\n",
       "      <td>13.6620</td>\n",
       "    </tr>\n",
       "    <tr>\n",
       "      <th>3</th>\n",
       "      <td>7.0032</td>\n",
       "      <td>11.8540</td>\n",
       "    </tr>\n",
       "    <tr>\n",
       "      <th>4</th>\n",
       "      <td>5.8598</td>\n",
       "      <td>6.8233</td>\n",
       "    </tr>\n",
       "  </tbody>\n",
       "</table>\n",
       "</div>"
      ],
      "text/plain": [
       "        0        1\n",
       "0  6.1101  17.5920\n",
       "1  5.5277   9.1302\n",
       "2  8.5186  13.6620\n",
       "3  7.0032  11.8540\n",
       "4  5.8598   6.8233"
      ]
     },
     "execution_count": 97,
     "metadata": {},
     "output_type": "execute_result"
    }
   ],
   "source": [
    "data = pd.read_csv(\"ex1data1.txt\", header=None) \n",
    "data.head()"
   ]
  },
  {
   "cell_type": "code",
   "execution_count": 98,
   "metadata": {},
   "outputs": [
    {
     "data": {
      "text/plain": [
       "(97, 2)"
      ]
     },
     "execution_count": 98,
     "metadata": {},
     "output_type": "execute_result"
    }
   ],
   "source": [
    "#Cantidad de datos\n",
    "data.shape"
   ]
  },
  {
   "cell_type": "code",
   "execution_count": 99,
   "metadata": {},
   "outputs": [],
   "source": [
    "#Columna 1\n",
    "X = data.iloc[:,0].values"
   ]
  },
  {
   "cell_type": "code",
   "execution_count": 100,
   "metadata": {},
   "outputs": [],
   "source": [
    "#Columna 2\n",
    "y = data.iloc[:,1].values"
   ]
  },
  {
   "cell_type": "code",
   "execution_count": 101,
   "metadata": {},
   "outputs": [],
   "source": [
    "m = len(y)"
   ]
  },
  {
   "cell_type": "code",
   "execution_count": 102,
   "metadata": {},
   "outputs": [
    {
     "data": {
      "image/png": "[encoded data removed]",
      "text/plain": [
       "<Figure size 720x432 with 1 Axes>"
      ]
     },
     "metadata": {
      "needs_background": "light"
     },
     "output_type": "display_data"
    }
   ],
   "source": [
    "#Graficamos la informacion\n",
    "\n",
    "plt.figure(figsize=(10,6))\n",
    "plt.scatter(X, y, marker = \"x\", alpha =0.5, color = \"red\")\n",
    "plt.xlabel(\"Poblacion\")\n",
    "plt.ylabel(\"Ganancias\")\n",
    "plt.grid()\n",
    "plt.show()"
   ]
  },
  {
   "cell_type": "markdown",
   "metadata": {},
   "source": [
    "Definitivamente hay una relacion lineal, por lo que podremos aplicar un modelo de regresion lineal para predecir correctamente las ganancias de un local que abra en una ciudad cualquiera con una determinada cantidad de habitantes"
   ]
  },
  {
   "cell_type": "code",
   "execution_count": 103,
   "metadata": {},
   "outputs": [],
   "source": [
    "#Para implemental el modelo, convertimos los datos en matrices\n",
    "X = X.reshape((m,1))\n",
    "y = y.reshape((m,1))\n",
    "\n",
    "#Inserto columnas de 1's en la matriz de las variables independientes (X)\n",
    "X = np.insert(X,0,1, axis = 1)"
   ]
  },
  {
   "cell_type": "markdown",
   "metadata": {},
   "source": [
    "### Funcion de costo\n",
    "$$ J(\\theta) = \\dfrac {1}{2m} \\displaystyle \\sum _{i=1}^m \\left (h_\\theta (x_{i}) - y_{i} \\right)^2 $$\n",
    "\n",
    "La idea de la funcion de costo (loss function) es calcular el error que maneja el algoritmo dado parametros (theta) arbitrarios:"
   ]
  },
  {
   "cell_type": "code",
   "execution_count": 104,
   "metadata": {},
   "outputs": [],
   "source": [
    "def computeCost(X, y, theta):\n",
    "    \"\"\"\n",
    "    X matriz de mxn.\n",
    "    y matriz de mx1.\n",
    "    theta matriz de nx1.\n",
    "    h es la funcion de hipotesis (basicamente la y predecida dado X arbitrario).\n",
    "    Dados X, y, se calcula el costo (error) en funcion del parametro theta.\n",
    "    J escalar.\n",
    "    \"\"\"\n",
    "    h = np.dot(X, theta)\n",
    "    J = np.sum(np.power(h - y, 2)) / (2*m)\n",
    "    return J"
   ]
  },
  {
   "cell_type": "code",
   "execution_count": 105,
   "metadata": {},
   "outputs": [
    {
     "data": {
      "text/plain": [
       "32.072733877455676"
      ]
     },
     "execution_count": 105,
     "metadata": {},
     "output_type": "execute_result"
    }
   ],
   "source": [
    "#Hagamos alguna evaluacion, para esta base de datos, y un theta inicializado en ceros:\n",
    "#El costo debe rondar 32\n",
    "theta = np.zeros((X.shape[1],1))\n",
    "computeCost(X,y,theta)"
   ]
  },
  {
   "cell_type": "markdown",
   "metadata": {},
   "source": [
    "Perfecto, teniendo un costo de ~32 cuando los parametros son 0, vamos a querer reducir **J** al minimo, \n",
    "para obtener los parametros que mejor se ajustan a nuestros datos. Para lograr eso usaremos el algoritmo de **\"Gradient descent\"**"
   ]
  },
  {
   "cell_type": "markdown",
   "metadata": {},
   "source": [
    "### Gradient descent\n",
    "$$ \\theta = \\theta - \\dfrac {\\partial J(\\theta)}{\\partial \\theta} $$\n",
    "\n",
    "$$ \\dfrac {\\partial J(\\theta)}{\\partial \\theta} = \\dfrac {\\alpha}{m}X^T(X\\theta - y) $$\n",
    "\n",
    "El algoritmo basicamente ajusta theta cada iteracion restandole la derivada de la funcion de costo respecto a theta:\n"
   ]
  },
  {
   "cell_type": "code",
   "execution_count": 106,
   "metadata": {},
   "outputs": [],
   "source": [
    "def gradientDescent(X, y, theta, alpha, iterations):\n",
    "    \"\"\"\n",
    "    En J_history se guarda el valor de costo despues de cada iteracion.\n",
    "    En theta se guardan los theta optimizados\n",
    "    \"\"\"\n",
    "    J_history = []\n",
    "    for _ in range(iterations):\n",
    "        temp = np.dot(X, theta) - y\n",
    "        temp = np.dot(X.T,temp)\n",
    "        theta = theta - (alpha/m) * temp\n",
    "        J_history.append(computeCost(X, y, theta))\n",
    "    return theta, J_history"
   ]
  },
  {
   "cell_type": "code",
   "execution_count": 107,
   "metadata": {},
   "outputs": [],
   "source": [
    "#Configuramos el algoritmo, alpha es el \"learning rate\"\n",
    "alpha = 0.01\n",
    "iterations = 1000\n",
    "\n",
    "#Lo inicializamos:\n",
    "theta, J_history = gradientDescent(X, y, theta, alpha, iterations)"
   ]
  },
  {
   "cell_type": "markdown",
   "metadata": {},
   "source": [
    "### Graficamos los resultados "
   ]
  },
  {
   "cell_type": "code",
   "execution_count": 108,
   "metadata": {},
   "outputs": [
    {
     "data": {
      "image/png": "[encoded data removed]",
      "text/plain": [
       "<Figure size 720x432 with 1 Axes>"
      ]
     },
     "metadata": {
      "needs_background": "light"
     },
     "output_type": "display_data"
    }
   ],
   "source": [
    "plt.figure(figsize=(10,6))\n",
    "plt.scatter(X[:,1], y, alpha = 0.5, marker =\"x\", color = \"red\")\n",
    "plt.xlabel(\"Poblacion\")\n",
    "plt.ylabel(\"Ganancias\")\n",
    "plt.plot(X[:,1], np.dot(X, theta), color =\"blue\")\n",
    "plt.grid()\n",
    "plt.show()"
   ]
  },
  {
   "cell_type": "code",
   "execution_count": 109,
   "metadata": {},
   "outputs": [
    {
     "data": {
      "image/png": "[encoded data removed]",
      "text/plain": [
       "<Figure size 720x432 with 1 Axes>"
      ]
     },
     "metadata": {
      "needs_background": "light"
     },
     "output_type": "display_data"
    }
   ],
   "source": [
    "#Podemos ver como el algoritmo va mejorando el costo a medida que ajusta los parametros\n",
    "plt.figure(figsize=(10,6))\n",
    "plt.plot(range(len(J_history)), J_history, color =\"blue\", linewidth = 2)\n",
    "plt.grid()\n",
    "plt.show()"
   ]
  },
  {
   "cell_type": "markdown",
   "metadata": {},
   "source": [
    "### Podemos predecir algunos valores"
   ]
  },
  {
   "cell_type": "code",
   "execution_count": 110,
   "metadata": {},
   "outputs": [
    {
     "data": {
      "text/plain": [
       "19.304481904289265"
      ]
     },
     "execution_count": 110,
     "metadata": {},
     "output_type": "execute_result"
    }
   ],
   "source": [
    "#Viendo el grafico, vemos que en una poblacion de 20 (20x10k) se obtendria una ganancia de 20 (20x10k) aprox.\n",
    "def profit(theta, x_i):\n",
    "    y_i = np.dot([1, x_i],theta)\n",
    "    return y_i[0]\n",
    "profit(theta, 20)"
   ]
  },
  {
   "cell_type": "markdown",
   "metadata": {},
   "source": [
    "# Regresion Lineal Multiple\n",
    "En esta segunda parte tenemos una nueva base de datos, con precios de propiedades en una determinada ciudad, en funcion del area y del numero de habitaciones: columna 1 es area en metros cuadrados, columna 2 es el numero de habitaciones, y la tercer columna es el precio"
   ]
  },
  {
   "cell_type": "code",
   "execution_count": 111,
   "metadata": {},
   "outputs": [
    {
     "data": {
      "text/html": [
       "<div>\n",
       "<style scoped>\n",
       "    .dataframe tbody tr th:only-of-type {\n",
       "        vertical-align: middle;\n",
       "    }\n",
       "\n",
       "    .dataframe tbody tr th {\n",
       "        vertical-align: top;\n",
       "    }\n",
       "\n",
       "    .dataframe thead th {\n",
       "        text-align: right;\n",
       "    }\n",
       "</style>\n",
       "<table border=\"1\" class=\"dataframe\">\n",
       "  <thead>\n",
       "    <tr style=\"text-align: right;\">\n",
       "      <th></th>\n",
       "      <th>0</th>\n",
       "      <th>1</th>\n",
       "      <th>2</th>\n",
       "    </tr>\n",
       "  </thead>\n",
       "  <tbody>\n",
       "    <tr>\n",
       "      <th>0</th>\n",
       "      <td>2104</td>\n",
       "      <td>3</td>\n",
       "      <td>399900</td>\n",
       "    </tr>\n",
       "    <tr>\n",
       "      <th>1</th>\n",
       "      <td>1600</td>\n",
       "      <td>3</td>\n",
       "      <td>329900</td>\n",
       "    </tr>\n",
       "    <tr>\n",
       "      <th>2</th>\n",
       "      <td>2400</td>\n",
       "      <td>3</td>\n",
       "      <td>369000</td>\n",
       "    </tr>\n",
       "    <tr>\n",
       "      <th>3</th>\n",
       "      <td>1416</td>\n",
       "      <td>2</td>\n",
       "      <td>232000</td>\n",
       "    </tr>\n",
       "    <tr>\n",
       "      <th>4</th>\n",
       "      <td>3000</td>\n",
       "      <td>4</td>\n",
       "      <td>539900</td>\n",
       "    </tr>\n",
       "  </tbody>\n",
       "</table>\n",
       "</div>"
      ],
      "text/plain": [
       "      0  1       2\n",
       "0  2104  3  399900\n",
       "1  1600  3  329900\n",
       "2  2400  3  369000\n",
       "3  1416  2  232000\n",
       "4  3000  4  539900"
      ]
     },
     "execution_count": 111,
     "metadata": {},
     "output_type": "execute_result"
    }
   ],
   "source": [
    "data = pd.read_csv(\"ex1data2.txt\", header = None)\n",
    "data.head()"
   ]
  },
  {
   "cell_type": "code",
   "execution_count": 112,
   "metadata": {},
   "outputs": [
    {
     "data": {
      "text/plain": [
       "(47, 3)"
      ]
     },
     "execution_count": 112,
     "metadata": {},
     "output_type": "execute_result"
    }
   ],
   "source": [
    "data.shape"
   ]
  },
  {
   "cell_type": "code",
   "execution_count": 113,
   "metadata": {},
   "outputs": [],
   "source": [
    "#Tomamos la columna 1 y 2 como variables independientes, y la columna 3 como dependiente de las otras dos\n",
    "X = data.iloc[:,0:2].values\n",
    "y = data.iloc[:,2].values\n",
    "m = len(y)"
   ]
  },
  {
   "cell_type": "code",
   "execution_count": 114,
   "metadata": {},
   "outputs": [],
   "source": [
    "#Debido a la naturaleza de la base de datos, debemos normalizar las entradas, para que todas se muevan\n",
    "#dentro de un rango similar, en orden de optimizar el algoritmo\n",
    "\n",
    "def featureNormalize(X):\n",
    "    mu = np.mean(X, axis=0)\n",
    "    sigma = np.std(X, axis=0)\n",
    "    X_norm = (X - mu) / sigma\n",
    "    return X_norm, mu, sigma\n",
    "\n",
    "X_norm, mu, sigma = featureNormalize(X)"
   ]
  },
  {
   "cell_type": "markdown",
   "metadata": {},
   "source": [
    "### Funcion de costo"
   ]
  },
  {
   "cell_type": "code",
   "execution_count": 115,
   "metadata": {},
   "outputs": [
    {
     "data": {
      "text/plain": [
       "65591548106.45744"
      ]
     },
     "execution_count": 115,
     "metadata": {},
     "output_type": "execute_result"
    }
   ],
   "source": [
    "#Agregamos columna de 1's a X, y convertimos en una matriz a y\n",
    "X_norm = np.insert(X_norm,0,1, axis = 1)\n",
    "y = y.reshape((m,1))\n",
    "\n",
    "#Inicializamos theta en ceros, y calculamos el costo\n",
    "theta = np.zeros((X_norm.shape[1],1))\n",
    "computeCost(X_norm,y,theta)"
   ]
  },
  {
   "cell_type": "markdown",
   "metadata": {},
   "source": [
    "### Gradient Descent\n",
    "Calculamos los parametros optimos de la misma manera que en la regresion lineal simple"
   ]
  },
  {
   "cell_type": "code",
   "execution_count": 116,
   "metadata": {},
   "outputs": [],
   "source": [
    "#Configuramos el algoritmo, alpha es el \"learning rate\"\n",
    "alpha = 0.1\n",
    "iterations = 500\n",
    "\n",
    "#Lo inicializamos:\n",
    "theta, J_history = gradientDescent(X_norm, y, theta, alpha, iterations)"
   ]
  },
  {
   "cell_type": "code",
   "execution_count": 117,
   "metadata": {},
   "outputs": [
    {
     "data": {
      "image/png": "[encoded data removed]",
      "text/plain": [
       "<Figure size 720x432 with 1 Axes>"
      ]
     },
     "metadata": {
      "needs_background": "light"
     },
     "output_type": "display_data"
    }
   ],
   "source": [
    "#Veamos como varia el costo despues de cada ajuste a theta en el algoritmo\n",
    "plt.figure(figsize=(10,6))\n",
    "plt.plot(J_history,  color =\"blue\", linewidth = 2)\n",
    "plt.xlabel('Iterations')\n",
    "plt.ylabel(\"J\")\n",
    "plt.grid()\n",
    "plt.show()"
   ]
  },
  {
   "cell_type": "code",
   "execution_count": 118,
   "metadata": {},
   "outputs": [
    {
     "data": {
      "text/plain": [
       "2043280050.6028278"
      ]
     },
     "execution_count": 118,
     "metadata": {},
     "output_type": "execute_result"
    }
   ],
   "source": [
    "#Veamos como se redujo el costo despues de aplicar el algoritmo y obtener los parametros optimos\n",
    "computeCost(X_norm,y,theta)"
   ]
  },
  {
   "cell_type": "code",
   "execution_count": 119,
   "metadata": {},
   "outputs": [
    {
     "data": {
      "text/plain": [
       "293081.46433705394"
      ]
     },
     "execution_count": 119,
     "metadata": {},
     "output_type": "execute_result"
    }
   ],
   "source": [
    "#Predecir precio de habitacion 1650 sq-ft y 3 habitaciones\n",
    "\n",
    "price = theta[0] + theta[1] * (1650-mu[0])/sigma[0] + theta[2] * (3-mu[1])/sigma[1]\n",
    "price[0]"
   ]
  },
  {
   "cell_type": "markdown",
   "metadata": {},
   "source": [
    "## Ecuación normal\n",
    "\n",
    "$$ \\theta = (X^TX)^{-1}X^Ty$$\n",
    "\n",
    "La ecuacion normal **no** necesita normalizar las variables independientes"
   ]
  },
  {
   "cell_type": "code",
   "execution_count": 120,
   "metadata": {},
   "outputs": [],
   "source": [
    "#Insertamos columna de 1's\n",
    "X = np.insert(X,0,1, axis = 1)\n",
    "\n",
    "#Realizamos el calculo de theta\n",
    "theta = np.dot(np.linalg.inv(np.dot(X.T,X)),np.dot(X.T,y))"
   ]
  },
  {
   "cell_type": "code",
   "execution_count": 121,
   "metadata": {},
   "outputs": [
    {
     "data": {
      "text/plain": [
       "293081.4643348954"
      ]
     },
     "execution_count": 121,
     "metadata": {},
     "output_type": "execute_result"
    }
   ],
   "source": [
    "#Realizemos la misma prediccion que hicimos con el algoritmo anterior:\n",
    "#Predecir precio de habitacion 1650 sq-ft y 3 habitaciones\n",
    "\n",
    "price = theta[0] + theta[1]*1650 + theta[2]*3\n",
    "price[0]"
   ]
  }
 ],
 "metadata": {
  "kernelspec": {
   "display_name": "Python 3",
   "language": "python",
   "name": "python3"
  },
  "language_info": {
   "codemirror_mode": {
    "name": "ipython",
    "version": 3
   },
   "file_extension": ".py",
   "mimetype": "text/x-python",
   "name": "python",
   "nbconvert_exporter": "python",
   "pygments_lexer": "ipython3",
   "version": "3.7.6"
  }
 },
 "nbformat": 4,
 "nbformat_minor": 4
}
