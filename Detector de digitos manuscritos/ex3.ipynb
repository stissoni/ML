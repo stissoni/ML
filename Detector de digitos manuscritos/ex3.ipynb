{
 "cells": [
  {
   "cell_type": "code",
   "execution_count": 585,
   "metadata": {},
   "outputs": [],
   "source": [
    "from scipy.io import loadmat\n",
    "import numpy as np\n",
    "import scipy.optimize as opt\n",
    "import matplotlib.pyplot as plt"
   ]
  },
  {
   "cell_type": "markdown",
   "metadata": {},
   "source": [
    "# Regresion logistica: One vs. All\n",
    "\n",
    "Base de datos de 5000 numeros, de 20x20 pixeles: el trabajo nos presenta la necesidad de armar un modelo de regresion logistica para poder predecir los disintos numeros del 1 al 10 de la base de datos: para lograrlo se implementaria una funcion de costo, el gradiente de la misma y se usaran algoritmos de la libreria scypi para minimizar los parametros\n"
   ]
  },
  {
   "cell_type": "code",
   "execution_count": 586,
   "metadata": {},
   "outputs": [],
   "source": [
    "data = loadmat(\"ex3data1.mat\")\n",
    "X = data[\"X\"]\n",
    "y = data[\"y\"]"
   ]
  },
  {
   "cell_type": "code",
   "execution_count": 587,
   "metadata": {},
   "outputs": [
    {
     "data": {
      "text/plain": [
       "(5000, 400)"
      ]
     },
     "execution_count": 587,
     "metadata": {},
     "output_type": "execute_result"
    }
   ],
   "source": [
    "#5000 filas que representan numeros del 0-9, y 400 columnas que representan la intensidad luminica de cada pixel\n",
    "X.shape"
   ]
  },
  {
   "cell_type": "code",
   "execution_count": 588,
   "metadata": {},
   "outputs": [
    {
     "data": {
      "text/plain": [
       "(5000, 1)"
      ]
     },
     "execution_count": 588,
     "metadata": {},
     "output_type": "execute_result"
    }
   ],
   "source": [
    "y.shape"
   ]
  },
  {
   "cell_type": "code",
   "execution_count": 589,
   "metadata": {},
   "outputs": [
    {
     "data": {
      "image/png": "[encoded data removed]",
      "text/plain": [
       "<Figure size 504x504 with 25 Axes>"
      ]
     },
     "metadata": {
      "needs_background": "light"
     },
     "output_type": "display_data"
    }
   ],
   "source": [
    "#Graficamos algunos numeros aleatorios del dataset\n",
    "_, axarr = plt.subplots(5,5,figsize=(7,7))\n",
    "plt.gray()\n",
    "for i in range(5):\n",
    "    for j in range(5):\n",
    "        axarr[i,j].imshow(X[np.random.randint(X.shape[0])].reshape((20,20), order = \"F\"))\n",
    "        axarr[i,j].axis('off') "
   ]
  },
  {
   "cell_type": "code",
   "execution_count": 590,
   "metadata": {},
   "outputs": [],
   "source": [
    "def sigmoid(h):\n",
    "    \"\"\"\n",
    "    G = sigmoid function, devuelve probabilidad dado h arbitrario.\n",
    "    \"\"\"\n",
    "    g = 1/(1+np.exp(-h))\n",
    "    return g"
   ]
  },
  {
   "cell_type": "code",
   "execution_count": 591,
   "metadata": {},
   "outputs": [],
   "source": [
    "def costFunctionReg(theta, X, y, lmbda):\n",
    "    \"\"\"\n",
    "    J = cost function (loss function), devuelve el error.\n",
    "    \"\"\"\n",
    "    m = len(y)\n",
    "    temp1 = np.multiply(y, np.log(sigmoid(np.dot(X, theta))))\n",
    "    temp2 = np.multiply(1-y, np.log(1-sigmoid(np.dot(X, theta))))\n",
    "    return np.sum(temp1 + temp2) / (-m) + np.sum(theta[1:]**2) * lmbda / (2*m)"
   ]
  },
  {
   "cell_type": "code",
   "execution_count": 592,
   "metadata": {},
   "outputs": [],
   "source": [
    "def gradRegularization(theta, X, y, alpha):\n",
    "    \"\"\"\n",
    "    Gradiente de la funcion de costo. Se utiliza en el algoritmo para encontrar los parametros que\n",
    "    minimizan J.\n",
    "    \"\"\"\n",
    "    m = len(y)\n",
    "    temp = sigmoid(np.dot(X, theta)) - y\n",
    "    temp = np.dot(temp.T, X).T / m + theta * alpha / m\n",
    "    temp[0] = temp[0] - theta[0] * alpha / m\n",
    "    return temp"
   ]
  },
  {
   "cell_type": "code",
   "execution_count": 593,
   "metadata": {},
   "outputs": [],
   "source": [
    "#Agregar columnas de 1's y asignamos (m,n) las dimensiones de la matriz X.\n",
    "X = np.insert(X,0,1, axis = 1)\n",
    "(m, n) = X.shape"
   ]
  },
  {
   "cell_type": "code",
   "execution_count": 594,
   "metadata": {
    "scrolled": false
   },
   "outputs": [
    {
     "name": "stdout",
     "output_type": "stream",
     "text": [
      "Optimization terminated successfully.\n",
      "         Current function value: 0.008587\n",
      "         Iterations: 95\n",
      "         Function evaluations: 363\n",
      "         Gradient evaluations: 363\n",
      "Optimization terminated successfully.\n",
      "         Current function value: 0.013127\n",
      "         Iterations: 100\n",
      "         Function evaluations: 386\n",
      "         Gradient evaluations: 386\n",
      "Optimization terminated successfully.\n",
      "         Current function value: 0.050812\n",
      "         Iterations: 227\n",
      "         Function evaluations: 692\n",
      "         Gradient evaluations: 692\n",
      "Optimization terminated successfully.\n",
      "         Current function value: 0.057612\n",
      "         Iterations: 212\n",
      "         Function evaluations: 640\n",
      "         Gradient evaluations: 640\n",
      "Optimization terminated successfully.\n",
      "         Current function value: 0.033079\n",
      "         Iterations: 157\n",
      "         Function evaluations: 514\n",
      "         Gradient evaluations: 514\n",
      "Optimization terminated successfully.\n",
      "         Current function value: 0.054470\n",
      "         Iterations: 236\n",
      "         Function evaluations: 701\n",
      "         Gradient evaluations: 701\n",
      "Optimization terminated successfully.\n",
      "         Current function value: 0.018266\n",
      "         Iterations: 150\n",
      "         Function evaluations: 545\n",
      "         Gradient evaluations: 545\n",
      "Optimization terminated successfully.\n",
      "         Current function value: 0.030656\n",
      "         Iterations: 165\n",
      "         Function evaluations: 567\n",
      "         Gradient evaluations: 567\n",
      "Optimization terminated successfully.\n",
      "         Current function value: 0.078451\n",
      "         Iterations: 307\n",
      "         Function evaluations: 854\n",
      "         Gradient evaluations: 854\n",
      "Optimization terminated successfully.\n",
      "         Current function value: 0.071193\n",
      "         Iterations: 318\n",
      "         Function evaluations: 915\n",
      "         Gradient evaluations: 915\n"
     ]
    }
   ],
   "source": [
    "#Algoritmo que minimiza J.\n",
    "learning_rate = 0.1\n",
    "k = 10\n",
    "theta = np.zeros((k,n)) \n",
    "for i in range(k):\n",
    "    digit_class = i if i else 10\n",
    "    theta[i] = opt.fmin_cg(f = costFunctionReg, x0 = theta[i],  fprime = gradRegularization, \n",
    "                           args = (X, (y == digit_class).flatten(), learning_rate), maxiter = 500)"
   ]
  },
  {
   "cell_type": "code",
   "execution_count": 595,
   "metadata": {},
   "outputs": [
    {
     "name": "stdout",
     "output_type": "stream",
     "text": [
      "Precision: 96.46%\n"
     ]
    }
   ],
   "source": [
    "#Precision del modelo. Comapara las predicciones con sus valores reales en y.\n",
    "#Debido a la naturaleza de la base de datos, hay que corregir algunas entradas de y.\n",
    "n_correct, n_total = 0., 0.\n",
    "Y = y.copy()\n",
    "for irow in range(X.shape[0]):\n",
    "    n_total += 1\n",
    "    if (Y[irow] == 10):\n",
    "        Y[irow] = 0\n",
    "    if np.argmax(sigmoid(np.dot(X[irow], theta.T))) == int(Y[irow]): \n",
    "        n_correct += 1\n",
    "print (\"Precision: %0.2f%%\"%(100*(n_correct/n_total)))"
   ]
  },
  {
   "cell_type": "code",
   "execution_count": 596,
   "metadata": {
    "scrolled": false
   },
   "outputs": [
    {
     "data": {
      "image/png": "[encoded data removed]",
      "text/plain": [
       "<Figure size 432x288 with 1 Axes>"
      ]
     },
     "metadata": {
      "needs_background": "light"
     },
     "output_type": "display_data"
    }
   ],
   "source": [
    "#Se elige aleatoriamente una fila de X, y se predice que numero es aplicando el modelo.\n",
    "def predictRandomDigit():\n",
    "    random_digit = X[np.random.randint(X.shape[0])]\n",
    "    plt.imshow(random_digit[1:].reshape((20, 20), order='F'))\n",
    "    predicted = np.argmax(sigmoid(np.dot(random_digit, theta.T)))\n",
    "    plt.suptitle('Prediccion: %d'%predicted, fontsize=12, fontweight='bold')\n",
    "\n",
    "predictRandomDigit()"
   ]
  },
  {
   "cell_type": "markdown",
   "metadata": {},
   "source": [
    "# Red Neuronal\n",
    "\n",
    "Con la misma base de datos de la parte 1 de esta presentacion, se cargan desde un archivo los parametros (theta) para una red neuronal del mismo proposito que la parte 1: reconocer numeros escritos a mano. "
   ]
  },
  {
   "cell_type": "code",
   "execution_count": 597,
   "metadata": {},
   "outputs": [
    {
     "name": "stdout",
     "output_type": "stream",
     "text": [
      "theta1 shape: (25, 401)\n",
      "theta2 shape: (10, 26)\n"
     ]
    }
   ],
   "source": [
    "#ex3weights.mat ya nos da los parametros entrenados de la red neuronal theta1 y theta2\n",
    "data = loadmat(\"ex3weights.mat\")\n",
    "theta1, theta2 = data['Theta1'], data['Theta2']\n",
    "print (\"theta1 shape:\",theta1.shape)\n",
    "print (\"theta2 shape:\",theta2.shape)"
   ]
  },
  {
   "cell_type": "code",
   "execution_count": 598,
   "metadata": {},
   "outputs": [],
   "source": [
    "def propagateForward(row,thetas):\n",
    "    \"\"\"\n",
    "    Funcion dado theta, y un input de X (fila) arbitrarios, aplica el algoritmo para encontrar el output de\n",
    "    la ultima layer de la NN.\n",
    "    \"\"\"\n",
    "    features = row\n",
    "    for i in range(len(thetas)):\n",
    "        theta = thetas[i]\n",
    "        z = np.dot(theta,features)\n",
    "        output = sigmoid(z)\n",
    "        if i == len(thetas)-1:\n",
    "            return output\n",
    "        output = np.insert(output,0,1) #Agregando el intercept term\n",
    "        features = output"
   ]
  },
  {
   "cell_type": "code",
   "execution_count": 599,
   "metadata": {},
   "outputs": [],
   "source": [
    "def predictNN(row,thetas):\n",
    "    \"\"\"\n",
    "    Funcion que ejecuta \"propagateForward\", y dado el output decide que digito es el ingresado \n",
    "    por la fila de X.\n",
    "    \"\"\"\n",
    "    classes = [1,2,3,4,5,6,7,8,9,10]\n",
    "    output = propagateForward(row,thetas)\n",
    "    return classes[np.argmax(np.array(output))]"
   ]
  },
  {
   "cell_type": "code",
   "execution_count": 600,
   "metadata": {},
   "outputs": [],
   "source": [
    "#Cargo theta1 y theta2 que corresponden a los parametros del input, y hidden layer de la NN.\n",
    "myThetas = [theta1, theta2]"
   ]
  },
  {
   "cell_type": "code",
   "execution_count": 601,
   "metadata": {
    "scrolled": true
   },
   "outputs": [
    {
     "data": {
      "image/png": "[encoded data removed]",
      "text/plain": [
       "<Figure size 432x288 with 1 Axes>"
      ]
     },
     "metadata": {
      "needs_background": "light"
     },
     "output_type": "display_data"
    }
   ],
   "source": [
    "#Elijo una fila de X aletoriamente, y veo el calculo de la NN. Cuando el algoritmo predice un 10, por pantalla\n",
    "#muestro un 0.\n",
    "def predictRandomDigit():\n",
    "    random_digit = X[np.random.randint(X.shape[0])]\n",
    "    plt.imshow(random_digit[1:].reshape((20, 20), order='F'))\n",
    "    if (predictNN(random_digit,myThetas) == 10):\n",
    "        predicted = 0\n",
    "    else:\n",
    "        predicted = predictNN(random_digit,myThetas)\n",
    "    plt.suptitle('Prediccion: %d'%predicted, fontsize=12, fontweight='bold')\n",
    "\n",
    "predictRandomDigit()"
   ]
  },
  {
   "cell_type": "code",
   "execution_count": 602,
   "metadata": {},
   "outputs": [
    {
     "name": "stdout",
     "output_type": "stream",
     "text": [
      "Precision: 97.52%\n"
     ]
    }
   ],
   "source": [
    "#Veamos la precision del modelo comparando el resultado del output con los valores verdaderos en y.\n",
    "#Guardo los indices incorrectos para mas adelante.\n",
    "n_correct, n_total = 0., 0.\n",
    "incorrect_indices = []\n",
    "for irow in range(X.shape[0]):\n",
    "    n_total += 1\n",
    "    if predictNN(X[irow],myThetas) == int(y[irow]): \n",
    "        n_correct += 1\n",
    "    else: incorrect_indices.append(irow)\n",
    "print (\"Precision: %0.2f%%\"%(100*(n_correct/n_total)))"
   ]
  },
  {
   "cell_type": "code",
   "execution_count": 603,
   "metadata": {},
   "outputs": [
    {
     "data": {
      "image/png": "[encoded data removed]",
      "text/plain": [
       "<Figure size 216x216 with 1 Axes>"
      ]
     },
     "metadata": {
      "needs_background": "light"
     },
     "output_type": "display_data"
    },
    {
     "data": {
      "image/png": "[encoded data removed]",
      "text/plain": [
       "<Figure size 216x216 with 1 Axes>"
      ]
     },
     "metadata": {
      "needs_background": "light"
     },
     "output_type": "display_data"
    },
    {
     "data": {
      "image/png": "[encoded data removed]",
      "text/plain": [
       "<Figure size 216x216 with 1 Axes>"
      ]
     },
     "metadata": {
      "needs_background": "light"
     },
     "output_type": "display_data"
    }
   ],
   "source": [
    "#Seria interesante ver algunos numeros que el modelo no pudo predecir correctamente\n",
    "for i in range(3):\n",
    "    x = random.choice(incorrect_indices)\n",
    "    plt.figure(figsize=(3,3))\n",
    "    plt.imshow(X[x][1:].reshape((20, 20), order='F'))\n",
    "    plt.suptitle('Prediccion: %d'%(0 if (predictNN(X[x],myThetas) == 10) else (predictNN(X[x],myThetas))),\n",
    "                 fontsize=12, fontweight='bold')\n",
    "    plt.show()"
   ]
  }
 ],
 "metadata": {
  "kernelspec": {
   "display_name": "Python 3",
   "language": "python",
   "name": "python3"
  },
  "language_info": {
   "codemirror_mode": {
    "name": "ipython",
    "version": 3
   },
   "file_extension": ".py",
   "mimetype": "text/x-python",
   "name": "python",
   "nbconvert_exporter": "python",
   "pygments_lexer": "ipython3",
   "version": "3.7.6"
  }
 },
 "nbformat": 4,
 "nbformat_minor": 4
}