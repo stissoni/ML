{
  "nbformat": 4,
  "nbformat_minor": 0,
  "metadata": {
    "colab": {
      "name": "Untitled2.ipynb",
      "provenance": [],
      "collapsed_sections": [],
      "toc_visible": true
    },
    "kernelspec": {
      "name": "python3",
      "display_name": "Python 3"
    }
  },
  "cells": [
    {
      "cell_type": "code",
      "metadata": {
        "id": "WvNU8V3CjFl5",
        "colab_type": "code",
        "colab": {}
      },
      "source": [
        "import pandas as pd\n",
        "import numpy as np\n",
        "import matplotlib.pyplot as plt"
      ],
      "execution_count": 332,
      "outputs": []
    },
    {
      "cell_type": "markdown",
      "metadata": {
        "id": "9crfXDAEhZ8b",
        "colab_type": "text"
      },
      "source": [
        "# Prediccion del valor de propiedades\n",
        "Disponemos de una base de datos que relaciona el precio de una propiedad con su area y numero de habitaciones. Analizaremos los datos, implementaremos un modelo de aprenzidaje automatico para predecir el precio de otras propiedades.\n",
        "\n"
      ]
    },
    {
      "cell_type": "code",
      "metadata": {
        "id": "dItI601fhZ8b",
        "colab_type": "code",
        "colab": {
          "base_uri": "https://localhost:8080/",
          "height": 204
        },
        "outputId": "db5887de-acd1-4a74-a536-2465d9350fe6"
      },
      "source": [
        "data = pd.read_csv(\"ex1data2.txt\", header = None)\n",
        "data.head()"
      ],
      "execution_count": 333,
      "outputs": [
        {
          "output_type": "execute_result",
          "data": {
            "text/html": [
              "<div>\n",
              "<style scoped>\n",
              "    .dataframe tbody tr th:only-of-type {\n",
              "        vertical-align: middle;\n",
              "    }\n",
              "\n",
              "    .dataframe tbody tr th {\n",
              "        vertical-align: top;\n",
              "    }\n",
              "\n",
              "    .dataframe thead th {\n",
              "        text-align: right;\n",
              "    }\n",
              "</style>\n",
              "<table border=\"1\" class=\"dataframe\">\n",
              "  <thead>\n",
              "    <tr style=\"text-align: right;\">\n",
              "      <th></th>\n",
              "      <th>0</th>\n",
              "      <th>1</th>\n",
              "      <th>2</th>\n",
              "    </tr>\n",
              "  </thead>\n",
              "  <tbody>\n",
              "    <tr>\n",
              "      <th>0</th>\n",
              "      <td>2104</td>\n",
              "      <td>3</td>\n",
              "      <td>399900</td>\n",
              "    </tr>\n",
              "    <tr>\n",
              "      <th>1</th>\n",
              "      <td>1600</td>\n",
              "      <td>3</td>\n",
              "      <td>329900</td>\n",
              "    </tr>\n",
              "    <tr>\n",
              "      <th>2</th>\n",
              "      <td>2400</td>\n",
              "      <td>3</td>\n",
              "      <td>369000</td>\n",
              "    </tr>\n",
              "    <tr>\n",
              "      <th>3</th>\n",
              "      <td>1416</td>\n",
              "      <td>2</td>\n",
              "      <td>232000</td>\n",
              "    </tr>\n",
              "    <tr>\n",
              "      <th>4</th>\n",
              "      <td>3000</td>\n",
              "      <td>4</td>\n",
              "      <td>539900</td>\n",
              "    </tr>\n",
              "  </tbody>\n",
              "</table>\n",
              "</div>"
            ],
            "text/plain": [
              "      0  1       2\n",
              "0  2104  3  399900\n",
              "1  1600  3  329900\n",
              "2  2400  3  369000\n",
              "3  1416  2  232000\n",
              "4  3000  4  539900"
            ]
          },
          "metadata": {
            "tags": []
          },
          "execution_count": 333
        }
      ]
    },
    {
      "cell_type": "code",
      "metadata": {
        "id": "4TbHKD7ZhZ8d",
        "colab_type": "code",
        "colab": {
          "base_uri": "https://localhost:8080/",
          "height": 34
        },
        "outputId": "d407b1ba-e5c6-4fe6-dd59-81a5c37e26ad"
      },
      "source": [
        "print(\"la forma de los datos es: {}\".format(data.shape))"
      ],
      "execution_count": 334,
      "outputs": [
        {
          "output_type": "stream",
          "text": [
            "la forma de los datos es: (47, 3)\n"
          ],
          "name": "stdout"
        }
      ]
    },
    {
      "cell_type": "code",
      "metadata": {
        "id": "RX9I74ubhZ8f",
        "colab_type": "code",
        "colab": {}
      },
      "source": [
        "#Tomamos la columna 1 y 2 como variables independientes, y la columna 3 como dependiente de las otras dos\n",
        "X = data.iloc[:,0:2].values\n",
        "y = data.iloc[:,2].values\n",
        "m = len(y)\n",
        "\n",
        "#Debido a la naturaleza de la base de datos, debemos normalizar las entradas, para que todas se muevan\n",
        "#dentro de un rango similar, en orden de optimizar el algoritmo\n",
        "def featureNormalize(X):\n",
        "    \"\"\"\n",
        "    Recibe los datos, y los normaliza restando los datos por el promedio y dividiendo\n",
        "    por la varianza.\n",
        "    Devuelve la base de datos normalizada, y el promedio y la varianza que se uilizaran\n",
        "    para realizar predicciones.\n",
        "    \"\"\"\n",
        "    mu = np.mean(X, axis=0)\n",
        "    sigma = np.std(X, axis=0)\n",
        "    X_norm = (X - mu) / sigma\n",
        "    return X_norm, mu, sigma"
      ],
      "execution_count": 335,
      "outputs": []
    },
    {
      "cell_type": "code",
      "metadata": {
        "id": "eVXz5Hp5hZ8h",
        "colab_type": "code",
        "colab": {}
      },
      "source": [
        "X_norm, mu, sigma = featureNormalize(X)"
      ],
      "execution_count": 336,
      "outputs": []
    },
    {
      "cell_type": "markdown",
      "metadata": {
        "id": "8ycpAy3KhZ8j",
        "colab_type": "text"
      },
      "source": [
        "### Funcion de costo"
      ]
    },
    {
      "cell_type": "code",
      "metadata": {
        "id": "KVDdA5Dijbhx",
        "colab_type": "code",
        "colab": {}
      },
      "source": [
        "def computeCost(X, y, theta):\n",
        "    \"\"\"\n",
        "    X matriz de m x n, y matriz de m x 1, theta matriz de n x 1.\n",
        "    h es la funcion de hipotesis (basicamente la y predecida dado X arbitrario).\n",
        "    Dados X, y, se calcula el costo (error) en funcion del parametro theta.\n",
        "    Devuelve J escalar.\n",
        "    \"\"\"\n",
        "    h = np.dot(X, theta)\n",
        "    J = np.sum(np.power(h - y, 2)) / (2*m)\n",
        "    return J"
      ],
      "execution_count": 337,
      "outputs": []
    },
    {
      "cell_type": "code",
      "metadata": {
        "id": "sY92wk4ShZ8k",
        "colab_type": "code",
        "colab": {
          "base_uri": "https://localhost:8080/",
          "height": 34
        },
        "outputId": "5196f8fa-13cc-487b-af98-f211fcb25ddf"
      },
      "source": [
        "#Agregamos columna de 1's a X, y convertimos en una matriz a y\n",
        "X_norm = np.insert(X_norm,0,1, axis = 1)\n",
        "y = y.reshape((m,1))\n",
        "\n",
        "#Inicializamos theta en ceros, y calculamos el costo\n",
        "theta = np.zeros((X_norm.shape[1],1))\n",
        "print(\"El costo de los parametros inicialziados en 0 es: {:e}\".format(computeCost(X_norm,y,theta)))"
      ],
      "execution_count": 338,
      "outputs": [
        {
          "output_type": "stream",
          "text": [
            "El costo de los parametros inicialziados en 0 es: 6.559155e+10\n"
          ],
          "name": "stdout"
        }
      ]
    },
    {
      "cell_type": "markdown",
      "metadata": {
        "id": "JqCZcvt7hZ8m",
        "colab_type": "text"
      },
      "source": [
        "### Gradient Descent\n",
        "Calculamos los parametros optimos de la misma manera que en la regresion lineal simple"
      ]
    },
    {
      "cell_type": "code",
      "metadata": {
        "id": "7hkNktzLjh4l",
        "colab_type": "code",
        "colab": {}
      },
      "source": [
        "def gradientDescent(X, y, theta, alpha, iterations):\n",
        "    \"\"\"\n",
        "    En J_history se guarda el valor de costo despues de cada iteracion.\n",
        "    En theta se guardan los parametros optimizados.\n",
        "    \"\"\"\n",
        "    J_history = []\n",
        "    for _ in range(iterations):\n",
        "        temp = np.dot(X, theta) - y\n",
        "        temp = np.dot(X.T,temp)\n",
        "        theta = theta - (alpha/m) * temp\n",
        "        J_history.append(computeCost(X, y, theta))\n",
        "    return theta, J_history"
      ],
      "execution_count": 339,
      "outputs": []
    },
    {
      "cell_type": "code",
      "metadata": {
        "id": "ayjbDb4jhZ8m",
        "colab_type": "code",
        "colab": {}
      },
      "source": [
        "#Configuramos el algoritmo con un numero de iteraciones, alpha es el \"learning rate\"\n",
        "alpha = 0.1\n",
        "iterations = 500\n",
        "\n",
        "#Ejecutamos el algoritmo\n",
        "theta, J_history = gradientDescent(X_norm, y, theta, alpha, iterations)"
      ],
      "execution_count": 340,
      "outputs": []
    },
    {
      "cell_type": "code",
      "metadata": {
        "id": "EN1mjp8yhZ8o",
        "colab_type": "code",
        "colab": {
          "base_uri": "https://localhost:8080/",
          "height": 399
        },
        "outputId": "2c8995ed-9868-47e2-f265-779614b9f7d0"
      },
      "source": [
        "#Veamos como varia el costo despues de cada ajuste a theta en el algoritmo\n",
        "plt.figure(figsize=(10,6))\n",
        "plt.plot(J_history,  color =\"blue\", linewidth = 2)\n",
        "plt.xlabel('Iterations')\n",
        "plt.ylabel(\"J\")\n",
        "plt.grid()\n",
        "plt.show()"
      ],
      "execution_count": 341,
      "outputs": [
        {
          "output_type": "display_data",
          "data": {
            "image/png": "[encoded data removed]",
            "text/plain": [
              "<Figure size 720x432 with 1 Axes>"
            ]
          },
          "metadata": {
            "tags": [],
            "needs_background": "light"
          }
        }
      ]
    },
    {
      "cell_type": "code",
      "metadata": {
        "id": "De8zRB4LhZ8r",
        "colab_type": "code",
        "colab": {
          "base_uri": "https://localhost:8080/",
          "height": 34
        },
        "outputId": "44b94d74-bdd6-4def-af64-da7e37d89afc"
      },
      "source": [
        "#Veamos como se redujo el costo despues de aplicar el algoritmo y obtener los parametros optimos\n",
        "print(\"Ver como bajo considerablemente el costo con los parametros optimizados: {:e}\".format(computeCost(X_norm,y,theta)))"
      ],
      "execution_count": 342,
      "outputs": [
        {
          "output_type": "stream",
          "text": [
            "Ver como bajo considerablemente el costo con los parametros optimizados: 2.043280e+09\n"
          ],
          "name": "stdout"
        }
      ]
    },
    {
      "cell_type": "code",
      "metadata": {
        "id": "h677qP-GhZ8t",
        "colab_type": "code",
        "colab": {}
      },
      "source": [
        "#Predecir precio de habitacion 1650 sq-ft y 3 habitaciones\n",
        "def predictPrice(area, number_rooms, theta):\n",
        "  price = theta[0] + theta[1] * (area - mu[0]) / sigma[0] + theta[2] * (number_rooms - mu[1])/sigma[1]\n",
        "  return price[0]"
      ],
      "execution_count": 343,
      "outputs": []
    },
    {
      "cell_type": "code",
      "metadata": {
        "id": "sqCoczxYknSY",
        "colab_type": "code",
        "colab": {
          "base_uri": "https://localhost:8080/",
          "height": 34
        },
        "outputId": "33d3ad71-d349-4ccc-a5a4-33bd2dbc2b2e"
      },
      "source": [
        "print(\"Precio de una propiedad de 1650 sq-ft y 3 habitaciones: {} dolares\".format(int(predictPrice(1650, 3, theta))))"
      ],
      "execution_count": 344,
      "outputs": [
        {
          "output_type": "stream",
          "text": [
            "Precio de una propiedad de 1650 sq-ft y 3 habitaciones: 293081 dolares\n"
          ],
          "name": "stdout"
        }
      ]
    },
    {
      "cell_type": "markdown",
      "metadata": {
        "id": "3x_-YIvfhZ8v",
        "colab_type": "text"
      },
      "source": [
        "## Ecuación normal\n",
        "\n",
        "$$ \\theta = (X^TX)^{-1}X^Ty$$\n",
        "\n",
        "La ecuacion normal **no** necesita normalizar las variables independientes"
      ]
    },
    {
      "cell_type": "code",
      "metadata": {
        "id": "nud2VtbXhZ8v",
        "colab_type": "code",
        "colab": {}
      },
      "source": [
        "#Insertamos columna de 1's\n",
        "X = np.insert(X,0,1, axis = 1)\n",
        "\n",
        "#Realizamos el calculo de theta\n",
        "theta = np.dot(np.linalg.inv(np.dot(X.T,X)),np.dot(X.T,y))"
      ],
      "execution_count": 345,
      "outputs": []
    },
    {
      "cell_type": "code",
      "metadata": {
        "id": "gMvpf9jEhZ8x",
        "colab_type": "code",
        "colab": {
          "base_uri": "https://localhost:8080/",
          "height": 34
        },
        "outputId": "f0b72e5c-ec38-4249-bdc3-e7b66f5103a7"
      },
      "source": [
        "#Realizemos la misma prediccion que hicimos con el algoritmo anterior:\n",
        "#Predecir precio de habitacion 1650 sq-ft y 3 habitaciones\n",
        "\n",
        "price = theta[0] + theta[1]*1650 + theta[2]*3\n",
        "price[0]"
      ],
      "execution_count": 346,
      "outputs": [
        {
          "output_type": "execute_result",
          "data": {
            "text/plain": [
              "293081.4643348973"
            ]
          },
          "metadata": {
            "tags": []
          },
          "execution_count": 346
        }
      ]
    }
  ]
}