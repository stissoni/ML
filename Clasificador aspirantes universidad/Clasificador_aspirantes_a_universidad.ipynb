{
  "nbformat": 4,
  "nbformat_minor": 0,
  "metadata": {
    "kernelspec": {
      "display_name": "Python 3",
      "language": "python",
      "name": "python3"
    },
    "language_info": {
      "codemirror_mode": {
        "name": "ipython",
        "version": 3
      },
      "file_extension": ".py",
      "mimetype": "text/x-python",
      "name": "python",
      "nbconvert_exporter": "python",
      "pygments_lexer": "ipython3",
      "version": "3.7.6"
    },
    "colab": {
      "name": "Clasificador aspirantes a universidad.ipynb",
      "provenance": [],
      "collapsed_sections": [],
      "toc_visible": true
    }
  },
  "cells": [
    {
      "cell_type": "markdown",
      "metadata": {
        "id": "5_KV1-eSrtDc",
        "colab_type": "text"
      },
      "source": [
        "## Clasificador de aspirantes a la universidad.\n",
        "Vamos a analizar una base de datos de examenes de ingreso a una universidad, consta de la calificacion de 2 examenes, y el resultado (ingreso, no ingreso).\n",
        "A partir de un modelo de regresion logistica podemos definir futura aceptacion de ingresantes en funcion de sus calificaciones."
      ]
    },
    {
      "cell_type": "code",
      "metadata": {
        "id": "6gAr0_T2rtDd",
        "colab_type": "code",
        "colab": {}
      },
      "source": [
        "%matplotlib inline\n",
        "import numpy as np\n",
        "import matplotlib.pyplot as plt\n",
        "import pandas as pd"
      ],
      "execution_count": 25,
      "outputs": []
    },
    {
      "cell_type": "markdown",
      "metadata": {
        "id": "v437GTX_rtDh",
        "colab_type": "text"
      },
      "source": [
        "### Importamos los datos\n"
      ]
    },
    {
      "cell_type": "code",
      "metadata": {
        "id": "q730f00UrtDh",
        "colab_type": "code",
        "colab": {}
      },
      "source": [
        "#El dataset\n",
        "datafile = 'ex2data1.txt'\n",
        "cols = np.loadtxt(datafile,delimiter=',',usecols=(0,1,2),unpack=True)\n",
        "#Matriz x, matriz y\n",
        "X = np.transpose(np.array(cols[:-1]))\n",
        "y = np.transpose(np.array(cols[-1:]))\n",
        "#Numero de datos\n",
        "m = y.size\n",
        "#Insertar columna de 1's\n",
        "X = np.insert(X,0,1,axis=1)"
      ],
      "execution_count": 26,
      "outputs": []
    },
    {
      "cell_type": "markdown",
      "metadata": {
        "id": "u9uGNAi4rtDk",
        "colab_type": "text"
      },
      "source": [
        "### Visualización"
      ]
    },
    {
      "cell_type": "code",
      "metadata": {
        "id": "H8GPIVjqrtDk",
        "colab_type": "code",
        "colab": {}
      },
      "source": [
        "#Dividir los datos entre los admitidos y los rechazados\n",
        "adm = np.array([X[i] for i in range(X.shape[0]) if y[i] == 1])\n",
        "noAdm = np.array([X[i] for i in range(X.shape[0]) if y[i] == 0])"
      ],
      "execution_count": 27,
      "outputs": []
    },
    {
      "cell_type": "code",
      "metadata": {
        "id": "IdqGZ7F3rtDn",
        "colab_type": "code",
        "colab": {
          "base_uri": "https://localhost:8080/",
          "height": 388
        },
        "outputId": "10775c67-c357-4bf5-b845-527d991c9d61"
      },
      "source": [
        "def plotData():\n",
        "    plt.figure(figsize=(10,6))\n",
        "    plt.plot(adm[:,1],adm[:,2],'k+',label='Admitido')\n",
        "    plt.plot(noAdm[:,1],noAdm[:,2],'yo',label='No admitido')\n",
        "    plt.xlabel('Puntaje del examen 1')\n",
        "    plt.ylabel('Puntaje del examen 2')\n",
        "    plt.legend()\n",
        "    plt.grid(True)\n",
        "    \n",
        "plotData()"
      ],
      "execution_count": 28,
      "outputs": [
        {
          "output_type": "display_data",
          "data": {
            "image/png": "[encoded data removed]",
            "text/plain": [
              "<Figure size 720x432 with 1 Axes>"
            ]
          },
          "metadata": {
            "tags": [],
            "needs_background": "light"
          }
        }
      ]
    },
    {
      "cell_type": "markdown",
      "metadata": {
        "id": "b0lU-gnVrtDr",
        "colab_type": "text"
      },
      "source": [
        "### Implementacion"
      ]
    },
    {
      "cell_type": "markdown",
      "metadata": {
        "id": "HYPqO5g8rtDr",
        "colab_type": "text"
      },
      "source": [
        "Funcion hipotesis\n",
        "$$ h_ \\theta (x) =  \\frac{\\mathrm{1} }{\\mathrm{1} + e^{- \\theta^Tx} }  $$ \n",
        "Funcion de costo\n",
        "$$  J (\\theta) =\\frac{1}{m}\\sum_{i=1}^{m} [-y^{(i)}log(h_ \\theta (x^{(i)})) - (1-y^{(i)})log(1-h_ \\theta (x^{(i)}))] + \\frac{\\lambda}{2m}\\sum_{j=1}^{n} \\theta^2_j $$"
      ]
    },
    {
      "cell_type": "code",
      "metadata": {
        "id": "p0O5vMbErtDs",
        "colab_type": "code",
        "colab": {}
      },
      "source": [
        "#Funcion Sigmoid\n",
        "from scipy.special import expit"
      ],
      "execution_count": 29,
      "outputs": []
    },
    {
      "cell_type": "code",
      "metadata": {
        "id": "W8XFsWMPrtDu",
        "colab_type": "code",
        "colab": {}
      },
      "source": [
        "#Funcion hipotesis (H) y funcion de costo (J)\n",
        "def h(mytheta,myX): \n",
        "    return expit(np.dot(myX,mytheta))\n",
        "\n",
        "def computeCost(mytheta,myX,myy,mylambda = 0.): \n",
        "    \"\"\"\n",
        "    X matriz de n-filas y m-columnas\n",
        "    theta es una matriz de m-filas y 1 columna\n",
        "    y es una matrix with m-filas y una columna\n",
        "    Note: esta funcion incluye lambda, que sera utilizado para regularizar la funcion,\n",
        "    se usara en la segunda parte de la presentación\n",
        "    \"\"\"\n",
        "    term1 = np.dot(-np.array(myy).T,np.log(h(mytheta,myX)))\n",
        "    term2 = np.dot((1-np.array(myy)).T,np.log(1-h(mytheta,myX)))\n",
        "    regterm = (mylambda/2) * np.sum(np.dot(mytheta[1:].T,mytheta[1:]))\n",
        "    #term1 y term2 son matrices 1x1, por eso np.sum\n",
        "    J = float((1./m) * (np.sum(term1 - term2) + regterm))  \n",
        "    return J"
      ],
      "execution_count": 30,
      "outputs": []
    },
    {
      "cell_type": "code",
      "metadata": {
        "id": "b9kz_YtjrtDx",
        "colab_type": "code",
        "colab": {
          "base_uri": "https://localhost:8080/",
          "height": 34
        },
        "outputId": "7ab382d0-2af6-48f5-b122-3758b44f44b7"
      },
      "source": [
        "#Iniciar theta matriz de ceros, resultado esperado: J = 0.693\n",
        "initial_theta = np.zeros((X.shape[1],1))\n",
        "\n",
        "#Lambda = 0 (sin regularización)\n",
        "computeCost(initial_theta,X,y)"
      ],
      "execution_count": 31,
      "outputs": [
        {
          "output_type": "execute_result",
          "data": {
            "text/plain": [
              "0.6931471805599453"
            ]
          },
          "metadata": {
            "tags": []
          },
          "execution_count": 31
        }
      ]
    },
    {
      "cell_type": "code",
      "metadata": {
        "id": "7ZtqipiJrtDz",
        "colab_type": "code",
        "colab": {}
      },
      "source": [
        "#La alternativa de OCTAVE \"fminunc\" es \"fmin\" de scipy.optimize\n",
        "#\"fmin\" no necesita recibir la derivada de la funcion\n",
        "#Minimiza la funcion (la funcion costo en este caso) con \"downhill simplex algorithm\".\n",
        "#http://docs.scipy.org/doc/scipy-0.16.0/reference/generated/scipy.optimize.fmin.html\n",
        "from scipy import optimize\n",
        "\n",
        "def optimizeTheta(mytheta,myX,myy,mylambda=0.):\n",
        "    \"\"\"\n",
        "    Devuelve una lista, el primer termino es theta optimizado para el modelo, y el segundo\n",
        "    es el costo minimo de la función\n",
        "    \"\"\"\n",
        "    result = optimize.fmin(computeCost, x0=mytheta, args=(myX, myy, mylambda), maxiter=400, full_output=True)\n",
        "    return result[0], result[1]"
      ],
      "execution_count": 32,
      "outputs": []
    },
    {
      "cell_type": "code",
      "metadata": {
        "id": "IXmlAypfrtD2",
        "colab_type": "code",
        "colab": {
          "base_uri": "https://localhost:8080/",
          "height": 85
        },
        "outputId": "f28b8877-5dae-4aa8-b363-8295cee5ab88"
      },
      "source": [
        "theta, mincost = optimizeTheta(initial_theta,X,y)"
      ],
      "execution_count": 33,
      "outputs": [
        {
          "output_type": "stream",
          "text": [
            "Optimization terminated successfully.\n",
            "         Current function value: 0.203498\n",
            "         Iterations: 157\n",
            "         Function evaluations: 287\n"
          ],
          "name": "stdout"
        }
      ]
    },
    {
      "cell_type": "code",
      "metadata": {
        "id": "iGMYBP5prtD4",
        "colab_type": "code",
        "colab": {
          "base_uri": "https://localhost:8080/",
          "height": 34
        },
        "outputId": "3d24cdb3-a74c-4143-8780-7263e036fc7c"
      },
      "source": [
        "#Se vuelve a calular el costo, pero esta vez con el theta optimizado con la funcion \"optimizeTheta\"\n",
        "#Se espera un resultado de J = 0.203\n",
        "print(computeCost(theta,X,y))"
      ],
      "execution_count": 34,
      "outputs": [
        {
          "output_type": "stream",
          "text": [
            "0.2034977015902151\n"
          ],
          "name": "stdout"
        }
      ]
    },
    {
      "cell_type": "code",
      "metadata": {
        "id": "C3IhCmnwrtD7",
        "colab_type": "code",
        "colab": {
          "base_uri": "https://localhost:8080/",
          "height": 388
        },
        "outputId": "310fa946-1e28-4ba5-e0b0-01850426ab97"
      },
      "source": [
        "#Se grafican los \"decision boundary\"\n",
        "#Los boundary suceden cuando h = 0.5 o cuando theta*X = 0\n",
        "#theta0 + theta1*x1 + theta2*x2 = 0\n",
        "#y=mx+b pasando los terminos x2 = (-1/thetheta2)(theta0 + theta1*x1)\n",
        "\n",
        "boundary_xs = np.array([np.min(X[:,1]), np.max(X[:,1])])\n",
        "boundary_ys = (-1./theta[2])*(theta[0] + theta[1]*boundary_xs)\n",
        "plotData()\n",
        "plt.plot(boundary_xs,boundary_ys,'b-',label='Decision Boundary', color = \"purple\", linewidth = 1.5)\n",
        "plt.legend()\n",
        "plt.show()"
      ],
      "execution_count": 35,
      "outputs": [
        {
          "output_type": "display_data",
          "data": {
            "image/png": "[encoded data removed]",
            "text/plain": [
              "<Figure size 720x432 with 1 Axes>"
            ]
          },
          "metadata": {
            "tags": [],
            "needs_background": "light"
          }
        }
      ]
    },
    {
      "cell_type": "code",
      "metadata": {
        "id": "8nfu6yzasajT",
        "colab_type": "code",
        "colab": {
          "base_uri": "https://localhost:8080/",
          "height": 34
        },
        "outputId": "ffae8c42-48d4-48d6-ba3b-4c4caf39d9a1"
      },
      "source": [
        "#Para un estudiante con puntajes de 45 y 85 deberia tener una probabilidad de aprobar de 0.776\n",
        "print(h(theta,np.array([1, 45.,85.])))"
      ],
      "execution_count": 36,
      "outputs": [
        {
          "output_type": "stream",
          "text": [
            "0.7762915904112411\n"
          ],
          "name": "stdout"
        }
      ]
    },
    {
      "cell_type": "code",
      "metadata": {
        "id": "7tIAajDdrtD-",
        "colab_type": "code",
        "colab": {
          "base_uri": "https://localhost:8080/",
          "height": 34
        },
        "outputId": "be073188-8f34-4c41-e7d8-dd9c5146e54b"
      },
      "source": [
        "def makePrediction(mytheta, myx):\n",
        "    return h(mytheta,myx) >= 0.5\n",
        "\n",
        "#Calcular las predicciones realizadas correctamente\n",
        "adm_correct = float(np.sum(makePrediction(theta,adm)))\n",
        "noAdm_correct = float(np.sum(np.invert(makePrediction(theta,noAdm))))\n",
        "tot = len(adm)+len(noAdm)\n",
        "prcnt_correct = float(adm_correct+noAdm_correct)/tot\n",
        "print (\"Porcentaje de datos predecidos correctamente: %.2f\" % prcnt_correct )"
      ],
      "execution_count": 37,
      "outputs": [
        {
          "output_type": "stream",
          "text": [
            "Porcentaje de datos predecidos correctamente: 0.89\n"
          ],
          "name": "stdout"
        }
      ]
    }
  ]
}